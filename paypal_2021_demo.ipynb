{
 "cells": [
  {
   "cell_type": "markdown",
   "id": "2fb766b8",
   "metadata": {},
   "source": [
    "# 2021 My Family PayPal Transactions Data Analysis: Categorizing and Analyzing Spending Patterns"
   ]
  },
  {
   "cell_type": "markdown",
   "id": "714d8d45",
   "metadata": {},
   "source": [
    "## Data Source : My family Paypal transaction data for the year 2021 "
   ]
  },
  {
   "cell_type": "code",
   "execution_count": 66,
   "id": "9f7c5c77",
   "metadata": {},
   "outputs": [],
   "source": [
    "# Importing necessary libraries\n",
    "import pandas as pd  # For data manipulation and analysis\n",
    "import numpy as np  # For numerical computations\n",
    "import matplotlib.pyplot as plt  # For creating static plots\n",
    "import plotly.express as px  # For creating interactive plots\n",
    "from datetime import datetime, timedelta, date  # For working with dates and times\n"
   ]
  },
  {
   "cell_type": "code",
   "execution_count": 67,
   "id": "55799d73",
   "metadata": {},
   "outputs": [],
   "source": [
    "# Reading the CSV file containing PayPal transaction data for the year 2021 into a DataFrame and creating a backup\n",
    "df_backup = pd.read_csv(\"2021_PAYPAL.CSV\")\n"
   ]
  },
  {
   "cell_type": "code",
   "execution_count": 68,
   "id": "a188d86d",
   "metadata": {},
   "outputs": [],
   "source": [
    "# Creating a copy of the original DataFrame to work with, preserving the original dataset\n",
    "df = df_backup.copy()\n"
   ]
  },
  {
   "cell_type": "code",
   "execution_count": 69,
   "id": "30004899-bcbe-4c52-a515-fe87e6b898ba",
   "metadata": {},
   "outputs": [
    {
     "name": "stdout",
     "output_type": "stream",
     "text": [
      "<class 'pandas.core.frame.DataFrame'>\n",
      "RangeIndex: 84 entries, 0 to 83\n",
      "Data columns (total 10 columns):\n",
      " #   Column      Non-Null Count  Dtype  \n",
      "---  ------      --------------  -----  \n",
      " 0   Date        84 non-null     object \n",
      " 1   Time        84 non-null     object \n",
      " 2   TimeZone    84 non-null     object \n",
      " 3   Name        56 non-null     object \n",
      " 4   Type        84 non-null     object \n",
      " 5   Status      84 non-null     object \n",
      " 6   Currency    84 non-null     object \n",
      " 7   Amount      84 non-null     object \n",
      " 8   Receipt ID  0 non-null      float64\n",
      " 9   Balance     84 non-null     object \n",
      "dtypes: float64(1), object(9)\n",
      "memory usage: 6.7+ KB\n"
     ]
    }
   ],
   "source": [
    "df.info()"
   ]
  },
  {
   "cell_type": "code",
   "execution_count": 70,
   "id": "90f2bcf8-55a1-4bc3-b04b-0ab4e595e7a1",
   "metadata": {},
   "outputs": [
    {
     "data": {
      "text/html": [
       "<div>\n",
       "<style scoped>\n",
       "    .dataframe tbody tr th:only-of-type {\n",
       "        vertical-align: middle;\n",
       "    }\n",
       "\n",
       "    .dataframe tbody tr th {\n",
       "        vertical-align: top;\n",
       "    }\n",
       "\n",
       "    .dataframe thead th {\n",
       "        text-align: right;\n",
       "    }\n",
       "</style>\n",
       "<table border=\"1\" class=\"dataframe\">\n",
       "  <thead>\n",
       "    <tr style=\"text-align: right;\">\n",
       "      <th></th>\n",
       "      <th>Date</th>\n",
       "      <th>Time</th>\n",
       "      <th>TimeZone</th>\n",
       "      <th>Name</th>\n",
       "      <th>Type</th>\n",
       "      <th>Status</th>\n",
       "      <th>Currency</th>\n",
       "      <th>Amount</th>\n",
       "      <th>Receipt ID</th>\n",
       "      <th>Balance</th>\n",
       "    </tr>\n",
       "  </thead>\n",
       "  <tbody>\n",
       "    <tr>\n",
       "      <th>0</th>\n",
       "      <td>01/10/2021</td>\n",
       "      <td>21:55:06</td>\n",
       "      <td>EST</td>\n",
       "      <td>Chess For All</td>\n",
       "      <td>Express Checkout Payment</td>\n",
       "      <td>Completed</td>\n",
       "      <td>USD</td>\n",
       "      <td>-20.00</td>\n",
       "      <td>NaN</td>\n",
       "      <td>221.68</td>\n",
       "    </tr>\n",
       "    <tr>\n",
       "      <th>1</th>\n",
       "      <td>02/15/2021</td>\n",
       "      <td>09:31:04</td>\n",
       "      <td>EST</td>\n",
       "      <td>NaN</td>\n",
       "      <td>General Card Deposit</td>\n",
       "      <td>Completed</td>\n",
       "      <td>USD</td>\n",
       "      <td>21.18</td>\n",
       "      <td>NaN</td>\n",
       "      <td>242.86</td>\n",
       "    </tr>\n",
       "    <tr>\n",
       "      <th>2</th>\n",
       "      <td>02/15/2021</td>\n",
       "      <td>09:31:04</td>\n",
       "      <td>EST</td>\n",
       "      <td>The Home Depot</td>\n",
       "      <td>Express Checkout Payment</td>\n",
       "      <td>Completed</td>\n",
       "      <td>USD</td>\n",
       "      <td>-21.18</td>\n",
       "      <td>NaN</td>\n",
       "      <td>221.68</td>\n",
       "    </tr>\n",
       "    <tr>\n",
       "      <th>3</th>\n",
       "      <td>02/18/2021</td>\n",
       "      <td>10:41:49</td>\n",
       "      <td>EST</td>\n",
       "      <td>NaN</td>\n",
       "      <td>General Card Deposit</td>\n",
       "      <td>Completed</td>\n",
       "      <td>USD</td>\n",
       "      <td>18.65</td>\n",
       "      <td>NaN</td>\n",
       "      <td>240.33</td>\n",
       "    </tr>\n",
       "    <tr>\n",
       "      <th>4</th>\n",
       "      <td>02/18/2021</td>\n",
       "      <td>10:41:49</td>\n",
       "      <td>EST</td>\n",
       "      <td>The Home Depot</td>\n",
       "      <td>Express Checkout Payment</td>\n",
       "      <td>Completed</td>\n",
       "      <td>USD</td>\n",
       "      <td>-18.65</td>\n",
       "      <td>NaN</td>\n",
       "      <td>221.68</td>\n",
       "    </tr>\n",
       "  </tbody>\n",
       "</table>\n",
       "</div>"
      ],
      "text/plain": [
       "         Date      Time TimeZone            Name                      Type  \\\n",
       "0  01/10/2021  21:55:06      EST   Chess For All  Express Checkout Payment   \n",
       "1  02/15/2021  09:31:04      EST             NaN      General Card Deposit   \n",
       "2  02/15/2021  09:31:04      EST  The Home Depot  Express Checkout Payment   \n",
       "3  02/18/2021  10:41:49      EST             NaN      General Card Deposit   \n",
       "4  02/18/2021  10:41:49      EST  The Home Depot  Express Checkout Payment   \n",
       "\n",
       "      Status Currency  Amount  Receipt ID Balance  \n",
       "0  Completed      USD  -20.00         NaN  221.68  \n",
       "1  Completed      USD   21.18         NaN  242.86  \n",
       "2  Completed      USD  -21.18         NaN  221.68  \n",
       "3  Completed      USD   18.65         NaN  240.33  \n",
       "4  Completed      USD  -18.65         NaN  221.68  "
      ]
     },
     "execution_count": 70,
     "metadata": {},
     "output_type": "execute_result"
    }
   ],
   "source": [
    "df.head()\n"
   ]
  },
  {
   "cell_type": "code",
   "execution_count": 71,
   "id": "3ed568c3-af93-42ae-9f04-916495262b79",
   "metadata": {},
   "outputs": [
    {
     "data": {
      "text/plain": [
       "(84, 10)"
      ]
     },
     "execution_count": 71,
     "metadata": {},
     "output_type": "execute_result"
    }
   ],
   "source": [
    "df.shape"
   ]
  },
  {
   "cell_type": "code",
   "execution_count": 72,
   "id": "c5dd32ba-188b-4243-993b-7fbfa57e2984",
   "metadata": {},
   "outputs": [
    {
     "data": {
      "text/plain": [
       "Index(['Date', 'Time', 'TimeZone', 'Name', 'Type', 'Status', 'Currency',\n",
       "       'Amount', 'Receipt ID', 'Balance'],\n",
       "      dtype='object')"
      ]
     },
     "execution_count": 72,
     "metadata": {},
     "output_type": "execute_result"
    }
   ],
   "source": [
    "df.columns"
   ]
  },
  {
   "cell_type": "code",
   "execution_count": 73,
   "id": "ea894e44",
   "metadata": {},
   "outputs": [],
   "source": [
    "# Dropping the 'Receipt ID' column from the DataFrame as it's not needed for analysis\n",
    "df.drop(\"Receipt ID\", axis=1, inplace=True)\n"
   ]
  },
  {
   "cell_type": "code",
   "execution_count": 74,
   "id": "98c4521f",
   "metadata": {},
   "outputs": [],
   "source": [
    "# Dropping all rows containing NaN values (mostly rows for deposits) from the DataFrame\n",
    "df.dropna(axis=0, inplace=True, ignore_index=True)\n"
   ]
  },
  {
   "cell_type": "code",
   "execution_count": 75,
   "id": "7de5ee8e-1921-4bd5-858a-f0a61d0e208b",
   "metadata": {},
   "outputs": [
    {
     "data": {
      "text/plain": [
       "(56, 9)"
      ]
     },
     "execution_count": 75,
     "metadata": {},
     "output_type": "execute_result"
    }
   ],
   "source": [
    "df.shape # dropped 84 - 56 = 28 rows"
   ]
  },
  {
   "cell_type": "code",
   "execution_count": 76,
   "id": "035c7fc8",
   "metadata": {},
   "outputs": [
    {
     "data": {
      "text/html": [
       "<div>\n",
       "<style scoped>\n",
       "    .dataframe tbody tr th:only-of-type {\n",
       "        vertical-align: middle;\n",
       "    }\n",
       "\n",
       "    .dataframe tbody tr th {\n",
       "        vertical-align: top;\n",
       "    }\n",
       "\n",
       "    .dataframe thead th {\n",
       "        text-align: right;\n",
       "    }\n",
       "</style>\n",
       "<table border=\"1\" class=\"dataframe\">\n",
       "  <thead>\n",
       "    <tr style=\"text-align: right;\">\n",
       "      <th></th>\n",
       "      <th>count</th>\n",
       "      <th>unique</th>\n",
       "      <th>top</th>\n",
       "      <th>freq</th>\n",
       "    </tr>\n",
       "  </thead>\n",
       "  <tbody>\n",
       "    <tr>\n",
       "      <th>Date</th>\n",
       "      <td>56</td>\n",
       "      <td>32</td>\n",
       "      <td>09/01/2021</td>\n",
       "      <td>4</td>\n",
       "    </tr>\n",
       "    <tr>\n",
       "      <th>Time</th>\n",
       "      <td>56</td>\n",
       "      <td>36</td>\n",
       "      <td>00:31:40</td>\n",
       "      <td>3</td>\n",
       "    </tr>\n",
       "    <tr>\n",
       "      <th>TimeZone</th>\n",
       "      <td>56</td>\n",
       "      <td>2</td>\n",
       "      <td>EDT</td>\n",
       "      <td>37</td>\n",
       "    </tr>\n",
       "    <tr>\n",
       "      <th>Name</th>\n",
       "      <td>56</td>\n",
       "      <td>21</td>\n",
       "      <td>The Home Depot</td>\n",
       "      <td>8</td>\n",
       "    </tr>\n",
       "    <tr>\n",
       "      <th>Type</th>\n",
       "      <td>56</td>\n",
       "      <td>8</td>\n",
       "      <td>Express Checkout Payment</td>\n",
       "      <td>22</td>\n",
       "    </tr>\n",
       "    <tr>\n",
       "      <th>Status</th>\n",
       "      <td>56</td>\n",
       "      <td>2</td>\n",
       "      <td>Completed</td>\n",
       "      <td>53</td>\n",
       "    </tr>\n",
       "    <tr>\n",
       "      <th>Currency</th>\n",
       "      <td>56</td>\n",
       "      <td>1</td>\n",
       "      <td>USD</td>\n",
       "      <td>56</td>\n",
       "    </tr>\n",
       "    <tr>\n",
       "      <th>Amount</th>\n",
       "      <td>56</td>\n",
       "      <td>34</td>\n",
       "      <td>-10.59</td>\n",
       "      <td>6</td>\n",
       "    </tr>\n",
       "    <tr>\n",
       "      <th>Balance</th>\n",
       "      <td>56</td>\n",
       "      <td>17</td>\n",
       "      <td>192.51</td>\n",
       "      <td>17</td>\n",
       "    </tr>\n",
       "  </tbody>\n",
       "</table>\n",
       "</div>"
      ],
      "text/plain": [
       "         count unique                       top freq\n",
       "Date        56     32                09/01/2021    4\n",
       "Time        56     36                  00:31:40    3\n",
       "TimeZone    56      2                       EDT   37\n",
       "Name        56     21            The Home Depot    8\n",
       "Type        56      8  Express Checkout Payment   22\n",
       "Status      56      2                 Completed   53\n",
       "Currency    56      1                       USD   56\n",
       "Amount      56     34                    -10.59    6\n",
       "Balance     56     17                    192.51   17"
      ]
     },
     "execution_count": 76,
     "metadata": {},
     "output_type": "execute_result"
    }
   ],
   "source": [
    "# Generating descriptive statistics for the DataFrame and transposing the result for better readability\n",
    "df.describe().T\n"
   ]
  },
  {
   "cell_type": "code",
   "execution_count": 77,
   "id": "392cacec-6169-4984-a57f-8c4c27e30312",
   "metadata": {},
   "outputs": [
    {
     "data": {
      "text/html": [
       "<div>\n",
       "<style scoped>\n",
       "    .dataframe tbody tr th:only-of-type {\n",
       "        vertical-align: middle;\n",
       "    }\n",
       "\n",
       "    .dataframe tbody tr th {\n",
       "        vertical-align: top;\n",
       "    }\n",
       "\n",
       "    .dataframe thead th {\n",
       "        text-align: right;\n",
       "    }\n",
       "</style>\n",
       "<table border=\"1\" class=\"dataframe\">\n",
       "  <thead>\n",
       "    <tr style=\"text-align: right;\">\n",
       "      <th></th>\n",
       "      <th>Date</th>\n",
       "      <th>Time</th>\n",
       "      <th>TimeZone</th>\n",
       "      <th>Name</th>\n",
       "      <th>Type</th>\n",
       "      <th>Status</th>\n",
       "      <th>Currency</th>\n",
       "      <th>Amount</th>\n",
       "      <th>Balance</th>\n",
       "    </tr>\n",
       "  </thead>\n",
       "  <tbody>\n",
       "    <tr>\n",
       "      <th>51</th>\n",
       "      <td>12/24/2021</td>\n",
       "      <td>09:16:47</td>\n",
       "      <td>EST</td>\n",
       "      <td>CashStar- BrooksBrothers</td>\n",
       "      <td>Express Checkout Payment</td>\n",
       "      <td>Completed</td>\n",
       "      <td>USD</td>\n",
       "      <td>-150.00</td>\n",
       "      <td>197.51</td>\n",
       "    </tr>\n",
       "    <tr>\n",
       "      <th>52</th>\n",
       "      <td>12/24/2021</td>\n",
       "      <td>09:16:47</td>\n",
       "      <td>EST</td>\n",
       "      <td>CashStar- BrooksBrothers</td>\n",
       "      <td>General Authorization</td>\n",
       "      <td>Completed</td>\n",
       "      <td>USD</td>\n",
       "      <td>-150.00</td>\n",
       "      <td>197.51</td>\n",
       "    </tr>\n",
       "    <tr>\n",
       "      <th>53</th>\n",
       "      <td>12/28/2021</td>\n",
       "      <td>12:13:52</td>\n",
       "      <td>EST</td>\n",
       "      <td>Groupon Inc</td>\n",
       "      <td>PreApproved Payment Bill User Payment</td>\n",
       "      <td>Completed</td>\n",
       "      <td>USD</td>\n",
       "      <td>-55.00</td>\n",
       "      <td>142.51</td>\n",
       "    </tr>\n",
       "    <tr>\n",
       "      <th>54</th>\n",
       "      <td>12/28/2021</td>\n",
       "      <td>12:13:52</td>\n",
       "      <td>EST</td>\n",
       "      <td>Groupon Inc</td>\n",
       "      <td>General Authorization</td>\n",
       "      <td>Completed</td>\n",
       "      <td>USD</td>\n",
       "      <td>-55.00</td>\n",
       "      <td>197.51</td>\n",
       "    </tr>\n",
       "    <tr>\n",
       "      <th>55</th>\n",
       "      <td>12/30/2021</td>\n",
       "      <td>18:07:33</td>\n",
       "      <td>EST</td>\n",
       "      <td>Spotify USA Inc</td>\n",
       "      <td>PreApproved Payment Bill User Payment</td>\n",
       "      <td>Completed</td>\n",
       "      <td>USD</td>\n",
       "      <td>-10.59</td>\n",
       "      <td>197.51</td>\n",
       "    </tr>\n",
       "  </tbody>\n",
       "</table>\n",
       "</div>"
      ],
      "text/plain": [
       "          Date      Time TimeZone                      Name  \\\n",
       "51  12/24/2021  09:16:47      EST  CashStar- BrooksBrothers   \n",
       "52  12/24/2021  09:16:47      EST  CashStar- BrooksBrothers   \n",
       "53  12/28/2021  12:13:52      EST               Groupon Inc   \n",
       "54  12/28/2021  12:13:52      EST               Groupon Inc   \n",
       "55  12/30/2021  18:07:33      EST           Spotify USA Inc   \n",
       "\n",
       "                                     Type     Status Currency   Amount Balance  \n",
       "51               Express Checkout Payment  Completed      USD  -150.00  197.51  \n",
       "52                  General Authorization  Completed      USD  -150.00  197.51  \n",
       "53  PreApproved Payment Bill User Payment  Completed      USD   -55.00  142.51  \n",
       "54                  General Authorization  Completed      USD   -55.00  197.51  \n",
       "55  PreApproved Payment Bill User Payment  Completed      USD   -10.59  197.51  "
      ]
     },
     "execution_count": 77,
     "metadata": {},
     "output_type": "execute_result"
    }
   ],
   "source": [
    "df.tail()"
   ]
  },
  {
   "cell_type": "code",
   "execution_count": 78,
   "id": "a1dc7fd4-134d-46b2-9cd1-dbb9963b075c",
   "metadata": {},
   "outputs": [],
   "source": [
    "df = df[df['Type'].str.contains(\"Payment\",case = False)] # filtering only the rows with the word \"payment\" to avoid the repetition of rows for the same transaction"
   ]
  },
  {
   "cell_type": "code",
   "execution_count": 79,
   "id": "bc1b1e0d-8918-49ca-882d-f072376cecdd",
   "metadata": {},
   "outputs": [],
   "source": [
    "df=df.reset_index(drop = True)\n"
   ]
  },
  {
   "cell_type": "code",
   "execution_count": 80,
   "id": "0ed32155-da0d-4e80-8dcc-1b65d59de217",
   "metadata": {},
   "outputs": [
    {
     "data": {
      "text/plain": [
       "(32, 9)"
      ]
     },
     "execution_count": 80,
     "metadata": {},
     "output_type": "execute_result"
    }
   ],
   "source": [
    "df.shape # dropped 56 - 32 = 24 rows "
   ]
  },
  {
   "cell_type": "code",
   "execution_count": 81,
   "id": "5f0af5f8-f771-4a62-935f-657137f7d9b9",
   "metadata": {},
   "outputs": [],
   "source": [
    "df['Amount'] = df['Amount'].apply(lambda x: x.replace('\"', '')) # replacing the \"  from the Amount column\n",
    "\n",
    "df['Amount'] = df['Amount'].apply(lambda x: x.replace(',', '')) # replacing the  , from the Amount column\n"
   ]
  },
  {
   "cell_type": "code",
   "execution_count": 82,
   "id": "f0e3e62d-3b79-45c1-8494-b6d12bb84b29",
   "metadata": {},
   "outputs": [],
   "source": [
    "df[\"Amount\"] = df[\"Amount\"].astype(float) # Converting Amount to float"
   ]
  },
  {
   "cell_type": "code",
   "execution_count": 83,
   "id": "4acc51d6-ec90-4dd9-ada3-9b5b8a1865e2",
   "metadata": {},
   "outputs": [],
   "source": [
    "df[\"Balance\"] = df[\"Balance\"].astype(float) # Converting Balance to float"
   ]
  },
  {
   "cell_type": "code",
   "execution_count": 84,
   "id": "9dc822f1",
   "metadata": {},
   "outputs": [],
   "source": [
    "df['Amount'] = df['Amount'].abs() # Covert the amount to positive\n"
   ]
  },
  {
   "cell_type": "code",
   "execution_count": 85,
   "id": "7c6c2088-0b3f-429d-a526-6312781940e0",
   "metadata": {},
   "outputs": [],
   "source": [
    "df['Date'] = pd.to_datetime(df['Date']) # Converting Date to datetime\n",
    "df['Year'] = df['Date'].dt.year # created a new column YEAR\n",
    "df['Month'] = df['Date'].dt.month # created a new column MONTH"
   ]
  },
  {
   "cell_type": "code",
   "execution_count": 86,
   "id": "79ecd9f1",
   "metadata": {},
   "outputs": [],
   "source": [
    "# Lists of merchants in different categories\n",
    "services_list = [\"Chess For All\", \"Spotify USA Inc\", \"Joytunes Ltd\", \"Groupon Inc\", \"PayPal\"]\n",
    "healthcare_list = [\"Walmart.com\", \"Vitacost.com\"]\n",
    "travel_list = [\"Airbnb Payments Inc.\", \"Viator (TripAdvisor)\"]\n",
    "lifestyle_list = [\"Skechers By Mail, Inc.\", \"Macy's\", \"CHICK-FIL-A #01437\", \"REI\", \"Papa John's\", \"CashStar- BrooksBrothers\"]\n",
    "household_list = [\"The Home Depot\", \"K. Van Bourgondien\", \"Petco Animal Supplies, Inc.\", \"Bluestone Perennials\", \"Best Buy Co., Inc.\"]\n",
    "\n",
    "# Iterate through each row in the DataFrame\n",
    "for i in range(len(df['Name'])):\n",
    "    # Check if the merchant name belongs to the services list\n",
    "    if df.loc[i]['Name'] in services_list:\n",
    "        # Assign the \"Services\" category to the corresponding row\n",
    "        df.at[i, 'Merchant Category'] = \"Services\"\n",
    "    # Check if the merchant name belongs to the healthcare list\n",
    "    elif df.loc[i]['Name'] in healthcare_list:\n",
    "        # Assign the \"Healthcare\" category to the corresponding row\n",
    "        df.at[i, 'Merchant Category'] = \"Healthcare\"\n",
    "    # Check if the merchant name belongs to the travel list\n",
    "    elif df.loc[i]['Name'] in travel_list:\n",
    "        # Assign the \"Travel\" category to the corresponding row\n",
    "        df.at[i, 'Merchant Category'] = \"Travel\"\n",
    "    # Check if the merchant name belongs to the lifestyle list\n",
    "    elif df.loc[i]['Name'] in lifestyle_list:\n",
    "        # Assign the \"Lifestyle\" category to the corresponding row\n",
    "        df.at[i, 'Merchant Category'] = \"Lifestyle\"\n",
    "    # Check if the merchant name belongs to the household list\n",
    "    elif df.loc[i]['Name'] in household_list:\n",
    "        # Assign the \"Household\" category to the corresponding row\n",
    "        df.at[i, 'Merchant Category'] = \"Household\"\n",
    "    # If the merchant name doesn't match any list, continue to the next iteration\n",
    "    else:\n",
    "        continue\n"
   ]
  },
  {
   "cell_type": "code",
   "execution_count": 87,
   "id": "8bae473b-58c6-4b99-9e30-115ac4fb6e5f",
   "metadata": {},
   "outputs": [
    {
     "data": {
      "text/html": [
       "<div>\n",
       "<style scoped>\n",
       "    .dataframe tbody tr th:only-of-type {\n",
       "        vertical-align: middle;\n",
       "    }\n",
       "\n",
       "    .dataframe tbody tr th {\n",
       "        vertical-align: top;\n",
       "    }\n",
       "\n",
       "    .dataframe thead th {\n",
       "        text-align: right;\n",
       "    }\n",
       "</style>\n",
       "<table border=\"1\" class=\"dataframe\">\n",
       "  <thead>\n",
       "    <tr style=\"text-align: right;\">\n",
       "      <th></th>\n",
       "      <th>Date</th>\n",
       "      <th>Time</th>\n",
       "      <th>TimeZone</th>\n",
       "      <th>Name</th>\n",
       "      <th>Type</th>\n",
       "      <th>Status</th>\n",
       "      <th>Currency</th>\n",
       "      <th>Amount</th>\n",
       "      <th>Balance</th>\n",
       "      <th>Year</th>\n",
       "      <th>Month</th>\n",
       "      <th>Merchant Category</th>\n",
       "    </tr>\n",
       "  </thead>\n",
       "  <tbody>\n",
       "    <tr>\n",
       "      <th>0</th>\n",
       "      <td>2021-01-10</td>\n",
       "      <td>21:55:06</td>\n",
       "      <td>EST</td>\n",
       "      <td>Chess For All</td>\n",
       "      <td>Express Checkout Payment</td>\n",
       "      <td>Completed</td>\n",
       "      <td>USD</td>\n",
       "      <td>20.00</td>\n",
       "      <td>221.68</td>\n",
       "      <td>2021</td>\n",
       "      <td>1</td>\n",
       "      <td>Services</td>\n",
       "    </tr>\n",
       "    <tr>\n",
       "      <th>1</th>\n",
       "      <td>2021-02-15</td>\n",
       "      <td>09:31:04</td>\n",
       "      <td>EST</td>\n",
       "      <td>The Home Depot</td>\n",
       "      <td>Express Checkout Payment</td>\n",
       "      <td>Completed</td>\n",
       "      <td>USD</td>\n",
       "      <td>21.18</td>\n",
       "      <td>221.68</td>\n",
       "      <td>2021</td>\n",
       "      <td>2</td>\n",
       "      <td>Household</td>\n",
       "    </tr>\n",
       "    <tr>\n",
       "      <th>2</th>\n",
       "      <td>2021-02-18</td>\n",
       "      <td>10:41:49</td>\n",
       "      <td>EST</td>\n",
       "      <td>The Home Depot</td>\n",
       "      <td>Express Checkout Payment</td>\n",
       "      <td>Completed</td>\n",
       "      <td>USD</td>\n",
       "      <td>18.65</td>\n",
       "      <td>221.68</td>\n",
       "      <td>2021</td>\n",
       "      <td>2</td>\n",
       "      <td>Household</td>\n",
       "    </tr>\n",
       "    <tr>\n",
       "      <th>3</th>\n",
       "      <td>2021-02-19</td>\n",
       "      <td>08:22:28</td>\n",
       "      <td>EST</td>\n",
       "      <td>The Home Depot</td>\n",
       "      <td>Express Checkout Payment</td>\n",
       "      <td>Completed</td>\n",
       "      <td>USD</td>\n",
       "      <td>11.42</td>\n",
       "      <td>221.68</td>\n",
       "      <td>2021</td>\n",
       "      <td>2</td>\n",
       "      <td>Household</td>\n",
       "    </tr>\n",
       "    <tr>\n",
       "      <th>4</th>\n",
       "      <td>2021-03-24</td>\n",
       "      <td>11:01:24</td>\n",
       "      <td>EDT</td>\n",
       "      <td>The Home Depot</td>\n",
       "      <td>Express Checkout Payment</td>\n",
       "      <td>Completed</td>\n",
       "      <td>USD</td>\n",
       "      <td>14.33</td>\n",
       "      <td>221.68</td>\n",
       "      <td>2021</td>\n",
       "      <td>3</td>\n",
       "      <td>Household</td>\n",
       "    </tr>\n",
       "  </tbody>\n",
       "</table>\n",
       "</div>"
      ],
      "text/plain": [
       "        Date      Time TimeZone            Name                      Type  \\\n",
       "0 2021-01-10  21:55:06      EST   Chess For All  Express Checkout Payment   \n",
       "1 2021-02-15  09:31:04      EST  The Home Depot  Express Checkout Payment   \n",
       "2 2021-02-18  10:41:49      EST  The Home Depot  Express Checkout Payment   \n",
       "3 2021-02-19  08:22:28      EST  The Home Depot  Express Checkout Payment   \n",
       "4 2021-03-24  11:01:24      EDT  The Home Depot  Express Checkout Payment   \n",
       "\n",
       "      Status Currency  Amount  Balance  Year  Month Merchant Category  \n",
       "0  Completed      USD   20.00   221.68  2021      1          Services  \n",
       "1  Completed      USD   21.18   221.68  2021      2         Household  \n",
       "2  Completed      USD   18.65   221.68  2021      2         Household  \n",
       "3  Completed      USD   11.42   221.68  2021      2         Household  \n",
       "4  Completed      USD   14.33   221.68  2021      3         Household  "
      ]
     },
     "execution_count": 87,
     "metadata": {},
     "output_type": "execute_result"
    }
   ],
   "source": [
    "df.head()"
   ]
  },
  {
   "cell_type": "code",
   "execution_count": 88,
   "id": "ac0259e6",
   "metadata": {},
   "outputs": [
    {
     "name": "stdout",
     "output_type": "stream",
     "text": [
      "<class 'pandas.core.frame.DataFrame'>\n",
      "RangeIndex: 32 entries, 0 to 31\n",
      "Data columns (total 12 columns):\n",
      " #   Column             Non-Null Count  Dtype         \n",
      "---  ------             --------------  -----         \n",
      " 0   Date               32 non-null     datetime64[ns]\n",
      " 1   Time               32 non-null     object        \n",
      " 2   TimeZone           32 non-null     object        \n",
      " 3   Name               32 non-null     object        \n",
      " 4   Type               32 non-null     object        \n",
      " 5   Status             32 non-null     object        \n",
      " 6   Currency           32 non-null     object        \n",
      " 7   Amount             32 non-null     float64       \n",
      " 8   Balance            32 non-null     float64       \n",
      " 9   Year               32 non-null     int32         \n",
      " 10  Month              32 non-null     int32         \n",
      " 11  Merchant Category  32 non-null     object        \n",
      "dtypes: datetime64[ns](1), float64(2), int32(2), object(7)\n",
      "memory usage: 2.9+ KB\n"
     ]
    }
   ],
   "source": [
    "df.info()"
   ]
  },
  {
   "cell_type": "markdown",
   "id": "be98375d",
   "metadata": {},
   "source": [
    "### Visualize how the number and total amount of transactions vary over different months throughout the year 2021"
   ]
  },
  {
   "cell_type": "code",
   "execution_count": 89,
   "id": "83b30ea7",
   "metadata": {},
   "outputs": [
    {
     "data": {
      "image/png": "[encoded data removed]",
      "text/plain": [
       "<Figure size 1000x600 with 2 Axes>"
      ]
     },
     "metadata": {},
     "output_type": "display_data"
    }
   ],
   "source": [
    "# Define all months\n",
    "all_months = range(1, 13)\n",
    "\n",
    "# Group transactions by month and calculate count and sum\n",
    "monthly_transactions = df.groupby('Month').agg({'Date': 'count', 'Amount': 'sum'}).reindex(all_months, fill_value=0)\n",
    "\n",
    "# Plotting\n",
    "plt.figure(figsize=(10, 6))\n",
    "\n",
    "# Number of Transactions\n",
    "plt.subplot(2, 1, 1)\n",
    "plt.bar(monthly_transactions.index, monthly_transactions['Date'], color='skyblue')\n",
    "plt.title('Number of Transactions by Month')\n",
    "plt.xlabel('Month')\n",
    "plt.ylabel('Number of Transactions')\n",
    "plt.xticks(all_months)\n",
    "\n",
    "\n",
    "# Total Amount of Transactions\n",
    "plt.subplot(2, 1, 2)\n",
    "plt.plot(monthly_transactions.index, monthly_transactions['Amount'], marker='o', color='orange')\n",
    "plt.title('Total Amount of Transactions by Month')\n",
    "plt.xlabel('Month')\n",
    "plt.ylabel('Total Amount ($)')\n",
    "plt.xticks(all_months)\n",
    "\n",
    "\n",
    "plt.tight_layout()\n",
    "plt.show()\n"
   ]
  },
  {
   "cell_type": "markdown",
   "id": "f2148451",
   "metadata": {},
   "source": [
    "### Visualize the distribution of transaction counts by merchant names in a pie chart. "
   ]
  },
  {
   "cell_type": "code",
   "execution_count": 90,
   "id": "642ccf37",
   "metadata": {},
   "outputs": [
    {
     "data": {
      "image/png": "[encoded data removed]",
      "text/plain": [
       "<Figure size 800x800 with 1 Axes>"
      ]
     },
     "metadata": {},
     "output_type": "display_data"
    }
   ],
   "source": [
    "df['Name'].value_counts().plot.pie(figsize=(8, 8), autopct='%1.1f%%', startangle=90)\n",
    "plt.title('Distribution of Transactions by Merchant')\n",
    "plt.ylabel('')\n",
    "plt.show()"
   ]
  },
  {
   "cell_type": "markdown",
   "id": "d328d1d3",
   "metadata": {},
   "source": [
    "### Visualize how the number and total amount of transactions vary over different quarters throughout the year 2021"
   ]
  },
  {
   "cell_type": "code",
   "execution_count": 91,
   "id": "06a2e6c3-fe70-445d-9315-6f644f74165f",
   "metadata": {},
   "outputs": [
    {
     "data": {
      "image/png": "[encoded data removed]",
      "text/plain": [
       "<Figure size 1000x600 with 2 Axes>"
      ]
     },
     "metadata": {},
     "output_type": "display_data"
    },
    {
     "data": {
      "text/plain": [
       "<Figure size 640x480 with 0 Axes>"
      ]
     },
     "metadata": {},
     "output_type": "display_data"
    }
   ],
   "source": [
    "# Define quarters\n",
    "quarters = pd.to_datetime(df['Date']).dt.quarter.unique()\n",
    "\n",
    "# Group transactions by quarter and calculate count and sum\n",
    "quarterly_transactions = df.groupby(pd.to_datetime(df['Date']).dt.quarter).agg({'Date': 'count', 'Amount': 'sum'})\n",
    "\n",
    "# Plotting\n",
    "plt.figure(figsize=(10, 6))\n",
    "\n",
    "# Number of Transactions by Quarter\n",
    "plt.subplot(2, 1, 1)\n",
    "plt.bar(quarterly_transactions.index.astype(int), quarterly_transactions['Date'], color='skyblue')\n",
    "plt.title('Number of Transactions by Quarter')\n",
    "plt.xlabel('Quarter')\n",
    "plt.ylabel('Number of Transactions')\n",
    "plt.xticks(quarters)\n",
    "\n",
    "# Total Amount of Transactions by Quarter\n",
    "plt.subplot(2, 1, 2)\n",
    "plt.plot(quarterly_transactions.index, quarterly_transactions['Amount'], marker='o', color='orange')\n",
    "plt.title('Total Amount of Transactions by Quarter')\n",
    "plt.xlabel('Quarter')\n",
    "plt.ylabel('Total Amount ($)')\n",
    "plt.xticks(quarters)\n",
    "\n",
    "plt.tight_layout()\n",
    "plt.show()\n",
    "\n",
    "\n",
    "plt.tight_layout()\n",
    "plt.show()\n"
   ]
  },
  {
   "cell_type": "markdown",
   "id": "2d4a0e08",
   "metadata": {},
   "source": [
    "### Visualize the distribution of spending across different merchant categories"
   ]
  },
  {
   "cell_type": "code",
   "execution_count": 94,
   "id": "fd3527ea",
   "metadata": {},
   "outputs": [
    {
     "data": {
      "application/vnd.plotly.v1+json": {
       "config": {
        "plotlyServerURL": "https://plot.ly"
       },
       "data": [
        {
         "alignmentgroup": "True",
         "hovertemplate": "Merchant Category=%{x}<br>Total Amount ($)=%{marker.color}<extra></extra>",
         "legendgroup": "",
         "marker": {
          "color": [
           198.69,
           282.94,
           304.69,
           374.82,
           1577.58
          ],
          "coloraxis": "coloraxis",
          "pattern": {
           "shape": ""
          }
         },
         "name": "",
         "offsetgroup": "",
         "orientation": "v",
         "showlegend": false,
         "textposition": "auto",
         "type": "bar",
         "x": [
          "Household",
          "Services",
          "Lifestyle",
          "Healthcare",
          "Travel"
         ],
         "xaxis": "x",
         "y": [
          198.69,
          282.94,
          304.69,
          374.82,
          1577.58
         ],
         "yaxis": "y"
        }
       ],
       "layout": {
        "barmode": "relative",
        "coloraxis": {
         "colorbar": {
          "title": {
           "text": "Total Amount ($)"
          }
         },
         "colorscale": [
          [
           0,
           "rgb(255,245,240)"
          ],
          [
           0.125,
           "rgb(254,224,210)"
          ],
          [
           0.25,
           "rgb(252,187,161)"
          ],
          [
           0.375,
           "rgb(252,146,114)"
          ],
          [
           0.5,
           "rgb(251,106,74)"
          ],
          [
           0.625,
           "rgb(239,59,44)"
          ],
          [
           0.75,
           "rgb(203,24,29)"
          ],
          [
           0.875,
           "rgb(165,15,21)"
          ],
          [
           1,
           "rgb(103,0,13)"
          ]
         ]
        },
        "legend": {
         "tracegroupgap": 0
        },
        "margin": {
         "t": 60
        },
        "template": {
         "data": {
          "bar": [
           {
            "error_x": {
             "color": "#2a3f5f"
            },
            "error_y": {
             "color": "#2a3f5f"
            },
            "marker": {
             "line": {
              "color": "#E5ECF6",
              "width": 0.5
             },
             "pattern": {
              "fillmode": "overlay",
              "size": 10,
              "solidity": 0.2
             }
            },
            "type": "bar"
           }
          ],
          "barpolar": [
           {
            "marker": {
             "line": {
              "color": "#E5ECF6",
              "width": 0.5
             },
             "pattern": {
              "fillmode": "overlay",
              "size": 10,
              "solidity": 0.2
             }
            },
            "type": "barpolar"
           }
          ],
          "carpet": [
           {
            "aaxis": {
             "endlinecolor": "#2a3f5f",
             "gridcolor": "white",
             "linecolor": "white",
             "minorgridcolor": "white",
             "startlinecolor": "#2a3f5f"
            },
            "baxis": {
             "endlinecolor": "#2a3f5f",
             "gridcolor": "white",
             "linecolor": "white",
             "minorgridcolor": "white",
             "startlinecolor": "#2a3f5f"
            },
            "type": "carpet"
           }
          ],
          "choropleth": [
           {
            "colorbar": {
             "outlinewidth": 0,
             "ticks": ""
            },
            "type": "choropleth"
           }
          ],
          "contour": [
           {
            "colorbar": {
             "outlinewidth": 0,
             "ticks": ""
            },
            "colorscale": [
             [
              0,
              "#0d0887"
             ],
             [
              0.1111111111111111,
              "#46039f"
             ],
             [
              0.2222222222222222,
              "#7201a8"
             ],
             [
              0.3333333333333333,
              "#9c179e"
             ],
             [
              0.4444444444444444,
              "#bd3786"
             ],
             [
              0.5555555555555556,
              "#d8576b"
             ],
             [
              0.6666666666666666,
              "#ed7953"
             ],
             [
              0.7777777777777778,
              "#fb9f3a"
             ],
             [
              0.8888888888888888,
              "#fdca26"
             ],
             [
              1,
              "#f0f921"
             ]
            ],
            "type": "contour"
           }
          ],
          "contourcarpet": [
           {
            "colorbar": {
             "outlinewidth": 0,
             "ticks": ""
            },
            "type": "contourcarpet"
           }
          ],
          "heatmap": [
           {
            "colorbar": {
             "outlinewidth": 0,
             "ticks": ""
            },
            "colorscale": [
             [
              0,
              "#0d0887"
             ],
             [
              0.1111111111111111,
              "#46039f"
             ],
             [
              0.2222222222222222,
              "#7201a8"
             ],
             [
              0.3333333333333333,
              "#9c179e"
             ],
             [
              0.4444444444444444,
              "#bd3786"
             ],
             [
              0.5555555555555556,
              "#d8576b"
             ],
             [
              0.6666666666666666,
              "#ed7953"
             ],
             [
              0.7777777777777778,
              "#fb9f3a"
             ],
             [
              0.8888888888888888,
              "#fdca26"
             ],
             [
              1,
              "#f0f921"
             ]
            ],
            "type": "heatmap"
           }
          ],
          "heatmapgl": [
           {
            "colorbar": {
             "outlinewidth": 0,
             "ticks": ""
            },
            "colorscale": [
             [
              0,
              "#0d0887"
             ],
             [
              0.1111111111111111,
              "#46039f"
             ],
             [
              0.2222222222222222,
              "#7201a8"
             ],
             [
              0.3333333333333333,
              "#9c179e"
             ],
             [
              0.4444444444444444,
              "#bd3786"
             ],
             [
              0.5555555555555556,
              "#d8576b"
             ],
             [
              0.6666666666666666,
              "#ed7953"
             ],
             [
              0.7777777777777778,
              "#fb9f3a"
             ],
             [
              0.8888888888888888,
              "#fdca26"
             ],
             [
              1,
              "#f0f921"
             ]
            ],
            "type": "heatmapgl"
           }
          ],
          "histogram": [
           {
            "marker": {
             "pattern": {
              "fillmode": "overlay",
              "size": 10,
              "solidity": 0.2
             }
            },
            "type": "histogram"
           }
          ],
          "histogram2d": [
           {
            "colorbar": {
             "outlinewidth": 0,
             "ticks": ""
            },
            "colorscale": [
             [
              0,
              "#0d0887"
             ],
             [
              0.1111111111111111,
              "#46039f"
             ],
             [
              0.2222222222222222,
              "#7201a8"
             ],
             [
              0.3333333333333333,
              "#9c179e"
             ],
             [
              0.4444444444444444,
              "#bd3786"
             ],
             [
              0.5555555555555556,
              "#d8576b"
             ],
             [
              0.6666666666666666,
              "#ed7953"
             ],
             [
              0.7777777777777778,
              "#fb9f3a"
             ],
             [
              0.8888888888888888,
              "#fdca26"
             ],
             [
              1,
              "#f0f921"
             ]
            ],
            "type": "histogram2d"
           }
          ],
          "histogram2dcontour": [
           {
            "colorbar": {
             "outlinewidth": 0,
             "ticks": ""
            },
            "colorscale": [
             [
              0,
              "#0d0887"
             ],
             [
              0.1111111111111111,
              "#46039f"
             ],
             [
              0.2222222222222222,
              "#7201a8"
             ],
             [
              0.3333333333333333,
              "#9c179e"
             ],
             [
              0.4444444444444444,
              "#bd3786"
             ],
             [
              0.5555555555555556,
              "#d8576b"
             ],
             [
              0.6666666666666666,
              "#ed7953"
             ],
             [
              0.7777777777777778,
              "#fb9f3a"
             ],
             [
              0.8888888888888888,
              "#fdca26"
             ],
             [
              1,
              "#f0f921"
             ]
            ],
            "type": "histogram2dcontour"
           }
          ],
          "mesh3d": [
           {
            "colorbar": {
             "outlinewidth": 0,
             "ticks": ""
            },
            "type": "mesh3d"
           }
          ],
          "parcoords": [
           {
            "line": {
             "colorbar": {
              "outlinewidth": 0,
              "ticks": ""
             }
            },
            "type": "parcoords"
           }
          ],
          "pie": [
           {
            "automargin": true,
            "type": "pie"
           }
          ],
          "scatter": [
           {
            "fillpattern": {
             "fillmode": "overlay",
             "size": 10,
             "solidity": 0.2
            },
            "type": "scatter"
           }
          ],
          "scatter3d": [
           {
            "line": {
             "colorbar": {
              "outlinewidth": 0,
              "ticks": ""
             }
            },
            "marker": {
             "colorbar": {
              "outlinewidth": 0,
              "ticks": ""
             }
            },
            "type": "scatter3d"
           }
          ],
          "scattercarpet": [
           {
            "marker": {
             "colorbar": {
              "outlinewidth": 0,
              "ticks": ""
             }
            },
            "type": "scattercarpet"
           }
          ],
          "scattergeo": [
           {
            "marker": {
             "colorbar": {
              "outlinewidth": 0,
              "ticks": ""
             }
            },
            "type": "scattergeo"
           }
          ],
          "scattergl": [
           {
            "marker": {
             "colorbar": {
              "outlinewidth": 0,
              "ticks": ""
             }
            },
            "type": "scattergl"
           }
          ],
          "scattermapbox": [
           {
            "marker": {
             "colorbar": {
              "outlinewidth": 0,
              "ticks": ""
             }
            },
            "type": "scattermapbox"
           }
          ],
          "scatterpolar": [
           {
            "marker": {
             "colorbar": {
              "outlinewidth": 0,
              "ticks": ""
             }
            },
            "type": "scatterpolar"
           }
          ],
          "scatterpolargl": [
           {
            "marker": {
             "colorbar": {
              "outlinewidth": 0,
              "ticks": ""
             }
            },
            "type": "scatterpolargl"
           }
          ],
          "scatterternary": [
           {
            "marker": {
             "colorbar": {
              "outlinewidth": 0,
              "ticks": ""
             }
            },
            "type": "scatterternary"
           }
          ],
          "surface": [
           {
            "colorbar": {
             "outlinewidth": 0,
             "ticks": ""
            },
            "colorscale": [
             [
              0,
              "#0d0887"
             ],
             [
              0.1111111111111111,
              "#46039f"
             ],
             [
              0.2222222222222222,
              "#7201a8"
             ],
             [
              0.3333333333333333,
              "#9c179e"
             ],
             [
              0.4444444444444444,
              "#bd3786"
             ],
             [
              0.5555555555555556,
              "#d8576b"
             ],
             [
              0.6666666666666666,
              "#ed7953"
             ],
             [
              0.7777777777777778,
              "#fb9f3a"
             ],
             [
              0.8888888888888888,
              "#fdca26"
             ],
             [
              1,
              "#f0f921"
             ]
            ],
            "type": "surface"
           }
          ],
          "table": [
           {
            "cells": {
             "fill": {
              "color": "#EBF0F8"
             },
             "line": {
              "color": "white"
             }
            },
            "header": {
             "fill": {
              "color": "#C8D4E3"
             },
             "line": {
              "color": "white"
             }
            },
            "type": "table"
           }
          ]
         },
         "layout": {
          "annotationdefaults": {
           "arrowcolor": "#2a3f5f",
           "arrowhead": 0,
           "arrowwidth": 1
          },
          "autotypenumbers": "strict",
          "coloraxis": {
           "colorbar": {
            "outlinewidth": 0,
            "ticks": ""
           }
          },
          "colorscale": {
           "diverging": [
            [
             0,
             "#8e0152"
            ],
            [
             0.1,
             "#c51b7d"
            ],
            [
             0.2,
             "#de77ae"
            ],
            [
             0.3,
             "#f1b6da"
            ],
            [
             0.4,
             "#fde0ef"
            ],
            [
             0.5,
             "#f7f7f7"
            ],
            [
             0.6,
             "#e6f5d0"
            ],
            [
             0.7,
             "#b8e186"
            ],
            [
             0.8,
             "#7fbc41"
            ],
            [
             0.9,
             "#4d9221"
            ],
            [
             1,
             "#276419"
            ]
           ],
           "sequential": [
            [
             0,
             "#0d0887"
            ],
            [
             0.1111111111111111,
             "#46039f"
            ],
            [
             0.2222222222222222,
             "#7201a8"
            ],
            [
             0.3333333333333333,
             "#9c179e"
            ],
            [
             0.4444444444444444,
             "#bd3786"
            ],
            [
             0.5555555555555556,
             "#d8576b"
            ],
            [
             0.6666666666666666,
             "#ed7953"
            ],
            [
             0.7777777777777778,
             "#fb9f3a"
            ],
            [
             0.8888888888888888,
             "#fdca26"
            ],
            [
             1,
             "#f0f921"
            ]
           ],
           "sequentialminus": [
            [
             0,
             "#0d0887"
            ],
            [
             0.1111111111111111,
             "#46039f"
            ],
            [
             0.2222222222222222,
             "#7201a8"
            ],
            [
             0.3333333333333333,
             "#9c179e"
            ],
            [
             0.4444444444444444,
             "#bd3786"
            ],
            [
             0.5555555555555556,
             "#d8576b"
            ],
            [
             0.6666666666666666,
             "#ed7953"
            ],
            [
             0.7777777777777778,
             "#fb9f3a"
            ],
            [
             0.8888888888888888,
             "#fdca26"
            ],
            [
             1,
             "#f0f921"
            ]
           ]
          },
          "colorway": [
           "#636efa",
           "#EF553B",
           "#00cc96",
           "#ab63fa",
           "#FFA15A",
           "#19d3f3",
           "#FF6692",
           "#B6E880",
           "#FF97FF",
           "#FECB52"
          ],
          "font": {
           "color": "#2a3f5f"
          },
          "geo": {
           "bgcolor": "white",
           "lakecolor": "white",
           "landcolor": "#E5ECF6",
           "showlakes": true,
           "showland": true,
           "subunitcolor": "white"
          },
          "hoverlabel": {
           "align": "left"
          },
          "hovermode": "closest",
          "mapbox": {
           "style": "light"
          },
          "paper_bgcolor": "white",
          "plot_bgcolor": "#E5ECF6",
          "polar": {
           "angularaxis": {
            "gridcolor": "white",
            "linecolor": "white",
            "ticks": ""
           },
           "bgcolor": "#E5ECF6",
           "radialaxis": {
            "gridcolor": "white",
            "linecolor": "white",
            "ticks": ""
           }
          },
          "scene": {
           "xaxis": {
            "backgroundcolor": "#E5ECF6",
            "gridcolor": "white",
            "gridwidth": 2,
            "linecolor": "white",
            "showbackground": true,
            "ticks": "",
            "zerolinecolor": "white"
           },
           "yaxis": {
            "backgroundcolor": "#E5ECF6",
            "gridcolor": "white",
            "gridwidth": 2,
            "linecolor": "white",
            "showbackground": true,
            "ticks": "",
            "zerolinecolor": "white"
           },
           "zaxis": {
            "backgroundcolor": "#E5ECF6",
            "gridcolor": "white",
            "gridwidth": 2,
            "linecolor": "white",
            "showbackground": true,
            "ticks": "",
            "zerolinecolor": "white"
           }
          },
          "shapedefaults": {
           "line": {
            "color": "#2a3f5f"
           }
          },
          "ternary": {
           "aaxis": {
            "gridcolor": "white",
            "linecolor": "white",
            "ticks": ""
           },
           "baxis": {
            "gridcolor": "white",
            "linecolor": "white",
            "ticks": ""
           },
           "bgcolor": "#E5ECF6",
           "caxis": {
            "gridcolor": "white",
            "linecolor": "white",
            "ticks": ""
           }
          },
          "title": {
           "x": 0.05
          },
          "xaxis": {
           "automargin": true,
           "gridcolor": "white",
           "linecolor": "white",
           "ticks": "",
           "title": {
            "standoff": 15
           },
           "zerolinecolor": "white",
           "zerolinewidth": 2
          },
          "yaxis": {
           "automargin": true,
           "gridcolor": "white",
           "linecolor": "white",
           "ticks": "",
           "title": {
            "standoff": 15
           },
           "zerolinecolor": "white",
           "zerolinewidth": 2
          }
         }
        },
        "title": {
         "text": "Spending Distribution Across Merchant Categories"
        },
        "xaxis": {
         "anchor": "y",
         "categoryorder": "total descending",
         "domain": [
          0,
          1
         ],
         "title": {
          "text": "Merchant Category"
         }
        },
        "yaxis": {
         "anchor": "x",
         "domain": [
          0,
          1
         ],
         "title": {
          "text": "Total Amount ($)"
         }
        }
       }
      }
     },
     "metadata": {},
     "output_type": "display_data"
    }
   ],
   "source": [
    "\n",
    "df['Date'] = pd.to_datetime(df['Date'])  # Convert 'Date' column to datetime if not already done\n",
    "\n",
    "# Group transactions by merchant category and calculate total amount spent in each category\n",
    "category_spending = df.groupby('Merchant Category')['Amount'].sum().sort_values().reset_index()\n",
    "\n",
    "# Plotting with Plotly\n",
    "fig = px.bar(category_spending, x='Merchant Category', y='Amount', color='Amount',\n",
    "             labels={'Amount': 'Total Amount ($)'}, color_continuous_scale='reds')\n",
    "\n",
    "fig.update_layout(title='Spending Distribution Across Merchant Categories',\n",
    "                  xaxis_title='Merchant Category',\n",
    "                  yaxis_title='Total Amount ($)',\n",
    "                  xaxis={'categoryorder': 'total descending'})  # Sort x-axis categories by total amount descending\n",
    "\n",
    "fig.show()"
   ]
  },
  {
   "cell_type": "markdown",
   "id": "e70366d3",
   "metadata": {},
   "source": [
    "### Determine which merchants you spent the most with during the year and analyze your spending behavior with each merchant\n",
    "\n",
    "1. Group the transactions by the \"Name\" (merchants) column and calculate the total amount spent with each merchant.\n",
    "2. Sort the merchants based on the total amount spent to identify the top spenders.\n",
    "3. Analyze your spending behavior with each top merchant, which may include examining frequency of transactions, average transaction amounts, and any trends or patterns."
   ]
  },
  {
   "cell_type": "code",
   "execution_count": null,
   "id": "237ec319",
   "metadata": {},
   "outputs": [
    {
     "name": "stdout",
     "output_type": "stream",
     "text": [
      "Top Three Merchants:\n",
      " -----------------------\n",
      " Name\n",
      "Airbnb Payments Inc.    1060.07\n",
      "Viator (TripAdvisor)     517.51\n",
      "Vitacost.com             287.91\n",
      "Name: Amount, dtype: float64\n",
      "\n",
      "Details of top three merchants:\n",
      " -------------------------------\n",
      "\n",
      "Merchant 1: Airbnb Payments Inc.\n",
      "Total Transactions: 1\n",
      "Average Transaction Amount: $1060.07\n",
      "\n",
      "Merchant 2: Viator (TripAdvisor)\n",
      "Total Transactions: 1\n",
      "Average Transaction Amount: $517.51\n",
      "\n",
      "Merchant 3: Vitacost.com\n",
      "Total Transactions: 2\n",
      "Average Transaction Amount: $143.95\n"
     ]
    }
   ],
   "source": [
    "# Group transactions by merchant (Name) and calculate total amount spent with each merchant\n",
    "merchant_spending = df.groupby('Name')['Amount'].sum().sort_values(ascending=False)\n",
    "\n",
    "# Display top merchants\n",
    "top_merchants = merchant_spending.head(3)  # Assuming we want to analyze the top 3 spenders\n",
    "print(\"Top Three Merchants:\\n -----------------------\\n\", top_merchants)\n",
    "\n",
    "i = 1\n",
    "# Analyze spending behavior with each top merchant\n",
    "print(\"\\nDetails of top three merchants:\\n -------------------------------\")\n",
    "for merchant in top_merchants.index:\n",
    "    merchant_transactions = df[df['Name'] == merchant]\n",
    "    total_transactions = len(merchant_transactions)\n",
    "    average_transaction_amount = merchant_transactions['Amount'].mean()\n",
    "    print(f\"\\nMerchant {i}: {merchant}\")\n",
    "    print(f\"Total Transactions: {total_transactions}\")\n",
    "    print(f\"Average Transaction Amount: ${average_transaction_amount:.2f}\")\n",
    "    i = i +1"
   ]
  },
  {
   "cell_type": "markdown",
   "id": "b9e416d4",
   "metadata": {},
   "source": [
    "### Visualize the distribution of transaction statuses."
   ]
  },
  {
   "cell_type": "code",
   "execution_count": null,
   "id": "704a9a51",
   "metadata": {},
   "outputs": [
    {
     "data": {
      "image/png": "[encoded data removed]",
      "text/plain": [
       "<Figure size 800x600 with 1 Axes>"
      ]
     },
     "metadata": {},
     "output_type": "display_data"
    }
   ],
   "source": [
    "# Group transactions by status and calculate the frequency of each status\n",
    "status_distribution = df['Status'].value_counts()\n",
    "\n",
    "# Plotting\n",
    "plt.figure(figsize=(8, 6))\n",
    "status_distribution.plot(kind='bar', color='skyblue')\n",
    "plt.title('Distribution of Transaction Statuses')\n",
    "plt.xlabel('Status')\n",
    "plt.ylabel('Frequency')\n",
    "plt.xticks(rotation=45, ha='right')  # Rotate x-axis labels for better readability\n",
    "plt.tight_layout()\n",
    "plt.show()"
   ]
  },
  {
   "cell_type": "markdown",
   "id": "3c780216",
   "metadata": {},
   "source": [
    "### Generate a line graph showing how your account balance changed over time as a result of the transactions.\n",
    " - The x-axis represents the dates of the transactions, and the y-axis represents the account balance. \n",
    " - Each point on the graph corresponds to a specific date, and the line connects these points to show the trend in the account balance over time."
   ]
  },
  {
   "cell_type": "code",
   "execution_count": null,
   "id": "245d5cc8",
   "metadata": {},
   "outputs": [
    {
     "data": {
      "application/vnd.plotly.v1+json": {
       "config": {
        "plotlyServerURL": "https://plot.ly"
       },
       "data": [
        {
         "hovertemplate": "Date=%{x}<br>Account Balance ($)=%{y}<extra></extra>",
         "legendgroup": "",
         "line": {
          "color": "#636efa",
          "dash": "solid",
          "shape": "linear"
         },
         "marker": {
          "symbol": "circle"
         },
         "mode": "markers+lines",
         "name": "",
         "orientation": "v",
         "showlegend": false,
         "type": "scatter",
         "x": [
          "2021-01-10T00:00:00",
          "2021-02-15T00:00:00",
          "2021-02-18T00:00:00",
          "2021-02-19T00:00:00",
          "2021-03-24T00:00:00",
          "2021-05-04T00:00:00",
          "2021-05-14T00:00:00",
          "2021-07-09T00:00:00",
          "2021-07-10T00:00:00",
          "2021-07-15T00:00:00",
          "2021-07-20T00:00:00",
          "2021-08-14T00:00:00",
          "2021-08-27T00:00:00",
          "2021-08-27T00:00:00",
          "2021-08-31T00:00:00",
          "2021-09-01T00:00:00",
          "2021-09-01T00:00:00",
          "2021-09-07T00:00:00",
          "2021-09-12T00:00:00",
          "2021-09-18T00:00:00",
          "2021-09-19T00:00:00",
          "2021-09-30T00:00:00",
          "2021-10-26T00:00:00",
          "2021-10-30T00:00:00",
          "2021-11-30T00:00:00",
          "2021-12-07T00:00:00",
          "2021-12-11T00:00:00",
          "2021-12-12T00:00:00",
          "2021-12-16T00:00:00",
          "2021-12-24T00:00:00",
          "2021-12-28T00:00:00",
          "2021-12-30T00:00:00"
         ],
         "xaxis": "x",
         "y": [
          20,
          41.18,
          59.83,
          71.25,
          85.58,
          108.64,
          115.75,
          202.66,
          254.01,
          266.73,
          299.47,
          480.23,
          500.23,
          509.74,
          512.89,
          523.42,
          534.01,
          641.16,
          655.85,
          720.3000000000001,
          870.2900000000001,
          880.8800000000001,
          885.8800000000001,
          896.4700000000001,
          907.0600000000002,
          943.4300000000002,
          2003.5,
          2521.01,
          2523.13,
          2673.13,
          2728.13,
          2738.7200000000003
         ],
         "yaxis": "y"
        }
       ],
       "layout": {
        "legend": {
         "tracegroupgap": 0
        },
        "template": {
         "data": {
          "bar": [
           {
            "error_x": {
             "color": "#2a3f5f"
            },
            "error_y": {
             "color": "#2a3f5f"
            },
            "marker": {
             "line": {
              "color": "#E5ECF6",
              "width": 0.5
             },
             "pattern": {
              "fillmode": "overlay",
              "size": 10,
              "solidity": 0.2
             }
            },
            "type": "bar"
           }
          ],
          "barpolar": [
           {
            "marker": {
             "line": {
              "color": "#E5ECF6",
              "width": 0.5
             },
             "pattern": {
              "fillmode": "overlay",
              "size": 10,
              "solidity": 0.2
             }
            },
            "type": "barpolar"
           }
          ],
          "carpet": [
           {
            "aaxis": {
             "endlinecolor": "#2a3f5f",
             "gridcolor": "white",
             "linecolor": "white",
             "minorgridcolor": "white",
             "startlinecolor": "#2a3f5f"
            },
            "baxis": {
             "endlinecolor": "#2a3f5f",
             "gridcolor": "white",
             "linecolor": "white",
             "minorgridcolor": "white",
             "startlinecolor": "#2a3f5f"
            },
            "type": "carpet"
           }
          ],
          "choropleth": [
           {
            "colorbar": {
             "outlinewidth": 0,
             "ticks": ""
            },
            "type": "choropleth"
           }
          ],
          "contour": [
           {
            "colorbar": {
             "outlinewidth": 0,
             "ticks": ""
            },
            "colorscale": [
             [
              0,
              "#0d0887"
             ],
             [
              0.1111111111111111,
              "#46039f"
             ],
             [
              0.2222222222222222,
              "#7201a8"
             ],
             [
              0.3333333333333333,
              "#9c179e"
             ],
             [
              0.4444444444444444,
              "#bd3786"
             ],
             [
              0.5555555555555556,
              "#d8576b"
             ],
             [
              0.6666666666666666,
              "#ed7953"
             ],
             [
              0.7777777777777778,
              "#fb9f3a"
             ],
             [
              0.8888888888888888,
              "#fdca26"
             ],
             [
              1,
              "#f0f921"
             ]
            ],
            "type": "contour"
           }
          ],
          "contourcarpet": [
           {
            "colorbar": {
             "outlinewidth": 0,
             "ticks": ""
            },
            "type": "contourcarpet"
           }
          ],
          "heatmap": [
           {
            "colorbar": {
             "outlinewidth": 0,
             "ticks": ""
            },
            "colorscale": [
             [
              0,
              "#0d0887"
             ],
             [
              0.1111111111111111,
              "#46039f"
             ],
             [
              0.2222222222222222,
              "#7201a8"
             ],
             [
              0.3333333333333333,
              "#9c179e"
             ],
             [
              0.4444444444444444,
              "#bd3786"
             ],
             [
              0.5555555555555556,
              "#d8576b"
             ],
             [
              0.6666666666666666,
              "#ed7953"
             ],
             [
              0.7777777777777778,
              "#fb9f3a"
             ],
             [
              0.8888888888888888,
              "#fdca26"
             ],
             [
              1,
              "#f0f921"
             ]
            ],
            "type": "heatmap"
           }
          ],
          "heatmapgl": [
           {
            "colorbar": {
             "outlinewidth": 0,
             "ticks": ""
            },
            "colorscale": [
             [
              0,
              "#0d0887"
             ],
             [
              0.1111111111111111,
              "#46039f"
             ],
             [
              0.2222222222222222,
              "#7201a8"
             ],
             [
              0.3333333333333333,
              "#9c179e"
             ],
             [
              0.4444444444444444,
              "#bd3786"
             ],
             [
              0.5555555555555556,
              "#d8576b"
             ],
             [
              0.6666666666666666,
              "#ed7953"
             ],
             [
              0.7777777777777778,
              "#fb9f3a"
             ],
             [
              0.8888888888888888,
              "#fdca26"
             ],
             [
              1,
              "#f0f921"
             ]
            ],
            "type": "heatmapgl"
           }
          ],
          "histogram": [
           {
            "marker": {
             "pattern": {
              "fillmode": "overlay",
              "size": 10,
              "solidity": 0.2
             }
            },
            "type": "histogram"
           }
          ],
          "histogram2d": [
           {
            "colorbar": {
             "outlinewidth": 0,
             "ticks": ""
            },
            "colorscale": [
             [
              0,
              "#0d0887"
             ],
             [
              0.1111111111111111,
              "#46039f"
             ],
             [
              0.2222222222222222,
              "#7201a8"
             ],
             [
              0.3333333333333333,
              "#9c179e"
             ],
             [
              0.4444444444444444,
              "#bd3786"
             ],
             [
              0.5555555555555556,
              "#d8576b"
             ],
             [
              0.6666666666666666,
              "#ed7953"
             ],
             [
              0.7777777777777778,
              "#fb9f3a"
             ],
             [
              0.8888888888888888,
              "#fdca26"
             ],
             [
              1,
              "#f0f921"
             ]
            ],
            "type": "histogram2d"
           }
          ],
          "histogram2dcontour": [
           {
            "colorbar": {
             "outlinewidth": 0,
             "ticks": ""
            },
            "colorscale": [
             [
              0,
              "#0d0887"
             ],
             [
              0.1111111111111111,
              "#46039f"
             ],
             [
              0.2222222222222222,
              "#7201a8"
             ],
             [
              0.3333333333333333,
              "#9c179e"
             ],
             [
              0.4444444444444444,
              "#bd3786"
             ],
             [
              0.5555555555555556,
              "#d8576b"
             ],
             [
              0.6666666666666666,
              "#ed7953"
             ],
             [
              0.7777777777777778,
              "#fb9f3a"
             ],
             [
              0.8888888888888888,
              "#fdca26"
             ],
             [
              1,
              "#f0f921"
             ]
            ],
            "type": "histogram2dcontour"
           }
          ],
          "mesh3d": [
           {
            "colorbar": {
             "outlinewidth": 0,
             "ticks": ""
            },
            "type": "mesh3d"
           }
          ],
          "parcoords": [
           {
            "line": {
             "colorbar": {
              "outlinewidth": 0,
              "ticks": ""
             }
            },
            "type": "parcoords"
           }
          ],
          "pie": [
           {
            "automargin": true,
            "type": "pie"
           }
          ],
          "scatter": [
           {
            "fillpattern": {
             "fillmode": "overlay",
             "size": 10,
             "solidity": 0.2
            },
            "type": "scatter"
           }
          ],
          "scatter3d": [
           {
            "line": {
             "colorbar": {
              "outlinewidth": 0,
              "ticks": ""
             }
            },
            "marker": {
             "colorbar": {
              "outlinewidth": 0,
              "ticks": ""
             }
            },
            "type": "scatter3d"
           }
          ],
          "scattercarpet": [
           {
            "marker": {
             "colorbar": {
              "outlinewidth": 0,
              "ticks": ""
             }
            },
            "type": "scattercarpet"
           }
          ],
          "scattergeo": [
           {
            "marker": {
             "colorbar": {
              "outlinewidth": 0,
              "ticks": ""
             }
            },
            "type": "scattergeo"
           }
          ],
          "scattergl": [
           {
            "marker": {
             "colorbar": {
              "outlinewidth": 0,
              "ticks": ""
             }
            },
            "type": "scattergl"
           }
          ],
          "scattermapbox": [
           {
            "marker": {
             "colorbar": {
              "outlinewidth": 0,
              "ticks": ""
             }
            },
            "type": "scattermapbox"
           }
          ],
          "scatterpolar": [
           {
            "marker": {
             "colorbar": {
              "outlinewidth": 0,
              "ticks": ""
             }
            },
            "type": "scatterpolar"
           }
          ],
          "scatterpolargl": [
           {
            "marker": {
             "colorbar": {
              "outlinewidth": 0,
              "ticks": ""
             }
            },
            "type": "scatterpolargl"
           }
          ],
          "scatterternary": [
           {
            "marker": {
             "colorbar": {
              "outlinewidth": 0,
              "ticks": ""
             }
            },
            "type": "scatterternary"
           }
          ],
          "surface": [
           {
            "colorbar": {
             "outlinewidth": 0,
             "ticks": ""
            },
            "colorscale": [
             [
              0,
              "#0d0887"
             ],
             [
              0.1111111111111111,
              "#46039f"
             ],
             [
              0.2222222222222222,
              "#7201a8"
             ],
             [
              0.3333333333333333,
              "#9c179e"
             ],
             [
              0.4444444444444444,
              "#bd3786"
             ],
             [
              0.5555555555555556,
              "#d8576b"
             ],
             [
              0.6666666666666666,
              "#ed7953"
             ],
             [
              0.7777777777777778,
              "#fb9f3a"
             ],
             [
              0.8888888888888888,
              "#fdca26"
             ],
             [
              1,
              "#f0f921"
             ]
            ],
            "type": "surface"
           }
          ],
          "table": [
           {
            "cells": {
             "fill": {
              "color": "#EBF0F8"
             },
             "line": {
              "color": "white"
             }
            },
            "header": {
             "fill": {
              "color": "#C8D4E3"
             },
             "line": {
              "color": "white"
             }
            },
            "type": "table"
           }
          ]
         },
         "layout": {
          "annotationdefaults": {
           "arrowcolor": "#2a3f5f",
           "arrowhead": 0,
           "arrowwidth": 1
          },
          "autotypenumbers": "strict",
          "coloraxis": {
           "colorbar": {
            "outlinewidth": 0,
            "ticks": ""
           }
          },
          "colorscale": {
           "diverging": [
            [
             0,
             "#8e0152"
            ],
            [
             0.1,
             "#c51b7d"
            ],
            [
             0.2,
             "#de77ae"
            ],
            [
             0.3,
             "#f1b6da"
            ],
            [
             0.4,
             "#fde0ef"
            ],
            [
             0.5,
             "#f7f7f7"
            ],
            [
             0.6,
             "#e6f5d0"
            ],
            [
             0.7,
             "#b8e186"
            ],
            [
             0.8,
             "#7fbc41"
            ],
            [
             0.9,
             "#4d9221"
            ],
            [
             1,
             "#276419"
            ]
           ],
           "sequential": [
            [
             0,
             "#0d0887"
            ],
            [
             0.1111111111111111,
             "#46039f"
            ],
            [
             0.2222222222222222,
             "#7201a8"
            ],
            [
             0.3333333333333333,
             "#9c179e"
            ],
            [
             0.4444444444444444,
             "#bd3786"
            ],
            [
             0.5555555555555556,
             "#d8576b"
            ],
            [
             0.6666666666666666,
             "#ed7953"
            ],
            [
             0.7777777777777778,
             "#fb9f3a"
            ],
            [
             0.8888888888888888,
             "#fdca26"
            ],
            [
             1,
             "#f0f921"
            ]
           ],
           "sequentialminus": [
            [
             0,
             "#0d0887"
            ],
            [
             0.1111111111111111,
             "#46039f"
            ],
            [
             0.2222222222222222,
             "#7201a8"
            ],
            [
             0.3333333333333333,
             "#9c179e"
            ],
            [
             0.4444444444444444,
             "#bd3786"
            ],
            [
             0.5555555555555556,
             "#d8576b"
            ],
            [
             0.6666666666666666,
             "#ed7953"
            ],
            [
             0.7777777777777778,
             "#fb9f3a"
            ],
            [
             0.8888888888888888,
             "#fdca26"
            ],
            [
             1,
             "#f0f921"
            ]
           ]
          },
          "colorway": [
           "#636efa",
           "#EF553B",
           "#00cc96",
           "#ab63fa",
           "#FFA15A",
           "#19d3f3",
           "#FF6692",
           "#B6E880",
           "#FF97FF",
           "#FECB52"
          ],
          "font": {
           "color": "#2a3f5f"
          },
          "geo": {
           "bgcolor": "white",
           "lakecolor": "white",
           "landcolor": "#E5ECF6",
           "showlakes": true,
           "showland": true,
           "subunitcolor": "white"
          },
          "hoverlabel": {
           "align": "left"
          },
          "hovermode": "closest",
          "mapbox": {
           "style": "light"
          },
          "paper_bgcolor": "white",
          "plot_bgcolor": "#E5ECF6",
          "polar": {
           "angularaxis": {
            "gridcolor": "white",
            "linecolor": "white",
            "ticks": ""
           },
           "bgcolor": "#E5ECF6",
           "radialaxis": {
            "gridcolor": "white",
            "linecolor": "white",
            "ticks": ""
           }
          },
          "scene": {
           "xaxis": {
            "backgroundcolor": "#E5ECF6",
            "gridcolor": "white",
            "gridwidth": 2,
            "linecolor": "white",
            "showbackground": true,
            "ticks": "",
            "zerolinecolor": "white"
           },
           "yaxis": {
            "backgroundcolor": "#E5ECF6",
            "gridcolor": "white",
            "gridwidth": 2,
            "linecolor": "white",
            "showbackground": true,
            "ticks": "",
            "zerolinecolor": "white"
           },
           "zaxis": {
            "backgroundcolor": "#E5ECF6",
            "gridcolor": "white",
            "gridwidth": 2,
            "linecolor": "white",
            "showbackground": true,
            "ticks": "",
            "zerolinecolor": "white"
           }
          },
          "shapedefaults": {
           "line": {
            "color": "#2a3f5f"
           }
          },
          "ternary": {
           "aaxis": {
            "gridcolor": "white",
            "linecolor": "white",
            "ticks": ""
           },
           "baxis": {
            "gridcolor": "white",
            "linecolor": "white",
            "ticks": ""
           },
           "bgcolor": "#E5ECF6",
           "caxis": {
            "gridcolor": "white",
            "linecolor": "white",
            "ticks": ""
           }
          },
          "title": {
           "x": 0.05
          },
          "xaxis": {
           "automargin": true,
           "gridcolor": "white",
           "linecolor": "white",
           "ticks": "",
           "title": {
            "standoff": 15
           },
           "zerolinecolor": "white",
           "zerolinewidth": 2
          },
          "yaxis": {
           "automargin": true,
           "gridcolor": "white",
           "linecolor": "white",
           "ticks": "",
           "title": {
            "standoff": 15
           },
           "zerolinecolor": "white",
           "zerolinewidth": 2
          }
         }
        },
        "title": {
         "text": "Account Balance Over Time"
        },
        "xaxis": {
         "anchor": "y",
         "domain": [
          0,
          1
         ],
         "tickformat": "%Y-%m-%d",
         "title": {
          "text": "Date"
         }
        },
        "yaxis": {
         "anchor": "x",
         "domain": [
          0,
          1
         ],
         "title": {
          "text": "Account Balance ($)"
         }
        }
       }
      }
     },
     "metadata": {},
     "output_type": "display_data"
    }
   ],
   "source": [
    "# Calculate account balance over time\n",
    "df['Account Balance'] = df['Amount'].cumsum()\n",
    "\n",
    "# Plotting with Plotly\n",
    "fig = px.line(df, x='Date', y='Account Balance', title='Account Balance Over Time',\n",
    "              labels={'Account Balance': 'Account Balance ($)'}, \n",
    "              markers=True, line_shape='linear')\n",
    "\n",
    "fig.update_layout(xaxis_title='Date', yaxis_title='Account Balance ($)',\n",
    "                  xaxis=dict(tickformat='%Y-%m-%d'))  # Format x-axis tick labels as dates\n",
    "\n",
    "fig.show()"
   ]
  }
 ],
 "metadata": {
  "kernelspec": {
   "display_name": "Python 3 (ipykernel)",
   "language": "python",
   "name": "python3"
  },
  "language_info": {
   "codemirror_mode": {
    "name": "ipython",
    "version": 3
   },
   "file_extension": ".py",
   "mimetype": "text/x-python",
   "name": "python",
   "nbconvert_exporter": "python",
   "pygments_lexer": "ipython3",
   "version": "3.12.0"
  }
 },
 "nbformat": 4,
 "nbformat_minor": 5
}
